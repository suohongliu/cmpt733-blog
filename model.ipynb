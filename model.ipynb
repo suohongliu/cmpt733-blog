{
 "cells": [
  {
   "cell_type": "code",
   "execution_count": 1,
   "metadata": {},
   "outputs": [
    {
     "name": "stderr",
     "output_type": "stream",
     "text": [
      "/Users/wen.d/opt/anaconda3/envs/project_726/lib/python3.7/site-packages/tensorflow/python/framework/dtypes.py:516: FutureWarning: Passing (type, 1) or '1type' as a synonym of type is deprecated; in a future version of numpy, it will be understood as (type, (1,)) / '(1,)type'.\n",
      "  _np_qint8 = np.dtype([(\"qint8\", np.int8, 1)])\n",
      "/Users/wen.d/opt/anaconda3/envs/project_726/lib/python3.7/site-packages/tensorflow/python/framework/dtypes.py:517: FutureWarning: Passing (type, 1) or '1type' as a synonym of type is deprecated; in a future version of numpy, it will be understood as (type, (1,)) / '(1,)type'.\n",
      "  _np_quint8 = np.dtype([(\"quint8\", np.uint8, 1)])\n",
      "/Users/wen.d/opt/anaconda3/envs/project_726/lib/python3.7/site-packages/tensorflow/python/framework/dtypes.py:518: FutureWarning: Passing (type, 1) or '1type' as a synonym of type is deprecated; in a future version of numpy, it will be understood as (type, (1,)) / '(1,)type'.\n",
      "  _np_qint16 = np.dtype([(\"qint16\", np.int16, 1)])\n",
      "/Users/wen.d/opt/anaconda3/envs/project_726/lib/python3.7/site-packages/tensorflow/python/framework/dtypes.py:519: FutureWarning: Passing (type, 1) or '1type' as a synonym of type is deprecated; in a future version of numpy, it will be understood as (type, (1,)) / '(1,)type'.\n",
      "  _np_quint16 = np.dtype([(\"quint16\", np.uint16, 1)])\n",
      "/Users/wen.d/opt/anaconda3/envs/project_726/lib/python3.7/site-packages/tensorflow/python/framework/dtypes.py:520: FutureWarning: Passing (type, 1) or '1type' as a synonym of type is deprecated; in a future version of numpy, it will be understood as (type, (1,)) / '(1,)type'.\n",
      "  _np_qint32 = np.dtype([(\"qint32\", np.int32, 1)])\n",
      "/Users/wen.d/opt/anaconda3/envs/project_726/lib/python3.7/site-packages/tensorflow/python/framework/dtypes.py:525: FutureWarning: Passing (type, 1) or '1type' as a synonym of type is deprecated; in a future version of numpy, it will be understood as (type, (1,)) / '(1,)type'.\n",
      "  np_resource = np.dtype([(\"resource\", np.ubyte, 1)])\n",
      "/Users/wen.d/opt/anaconda3/envs/project_726/lib/python3.7/site-packages/tensorboard/compat/tensorflow_stub/dtypes.py:541: FutureWarning: Passing (type, 1) or '1type' as a synonym of type is deprecated; in a future version of numpy, it will be understood as (type, (1,)) / '(1,)type'.\n",
      "  _np_qint8 = np.dtype([(\"qint8\", np.int8, 1)])\n",
      "/Users/wen.d/opt/anaconda3/envs/project_726/lib/python3.7/site-packages/tensorboard/compat/tensorflow_stub/dtypes.py:542: FutureWarning: Passing (type, 1) or '1type' as a synonym of type is deprecated; in a future version of numpy, it will be understood as (type, (1,)) / '(1,)type'.\n",
      "  _np_quint8 = np.dtype([(\"quint8\", np.uint8, 1)])\n",
      "/Users/wen.d/opt/anaconda3/envs/project_726/lib/python3.7/site-packages/tensorboard/compat/tensorflow_stub/dtypes.py:543: FutureWarning: Passing (type, 1) or '1type' as a synonym of type is deprecated; in a future version of numpy, it will be understood as (type, (1,)) / '(1,)type'.\n",
      "  _np_qint16 = np.dtype([(\"qint16\", np.int16, 1)])\n",
      "/Users/wen.d/opt/anaconda3/envs/project_726/lib/python3.7/site-packages/tensorboard/compat/tensorflow_stub/dtypes.py:544: FutureWarning: Passing (type, 1) or '1type' as a synonym of type is deprecated; in a future version of numpy, it will be understood as (type, (1,)) / '(1,)type'.\n",
      "  _np_quint16 = np.dtype([(\"quint16\", np.uint16, 1)])\n",
      "/Users/wen.d/opt/anaconda3/envs/project_726/lib/python3.7/site-packages/tensorboard/compat/tensorflow_stub/dtypes.py:545: FutureWarning: Passing (type, 1) or '1type' as a synonym of type is deprecated; in a future version of numpy, it will be understood as (type, (1,)) / '(1,)type'.\n",
      "  _np_qint32 = np.dtype([(\"qint32\", np.int32, 1)])\n",
      "/Users/wen.d/opt/anaconda3/envs/project_726/lib/python3.7/site-packages/tensorboard/compat/tensorflow_stub/dtypes.py:550: FutureWarning: Passing (type, 1) or '1type' as a synonym of type is deprecated; in a future version of numpy, it will be understood as (type, (1,)) / '(1,)type'.\n",
      "  np_resource = np.dtype([(\"resource\", np.ubyte, 1)])\n"
     ]
    }
   ],
   "source": [
    "import os\n",
    "import pandas as pd\n",
    "import numpy as np\n",
    "import matplotlib.pyplot as plt\n",
    "import tensorflow as tf\n",
    "from tensorflow import keras\n",
    "from tensorflow.keras import Sequential\n",
    "from tensorflow.keras.layers import Conv2D,MaxPooling2D,Flatten,Dense"
   ]
  },
  {
   "cell_type": "code",
   "execution_count": 2,
   "metadata": {},
   "outputs": [
    {
     "name": "stdout",
     "output_type": "stream",
     "text": [
      "/Users/wen.d/Desktop/OCR\n",
      "/Users/wen.d/Desktop\n",
      "/Users/wen.d\n"
     ]
    }
   ],
   "source": [
    "import os\n",
    "p = os.path.abspath(os.getcwd())\n",
    "p1, _ = os.path.split(p)\n",
    "datapath, _ = os.path.split(p1)\n",
    "print(p)\n",
    "print(p1)\n",
    "print(datapath)"
   ]
  },
  {
   "cell_type": "code",
   "execution_count": 3,
   "metadata": {},
   "outputs": [],
   "source": [
    "#windows\n",
    "\"\"\"train_image = pd.read_csv(p + '\\data\\\\train.csv')\n",
    "test_image = pd.read_csv(p + '\\data\\\\test.csv')\"\"\"\n",
    "#mac or linux\n",
    "train_image = pd.read_csv(p + '/data/train.csv')\n",
    "test_image = pd.read_csv(p + '/data/test.csv')\n",
    "\n",
    "train_labels = np.array(train_image['label'].values)\n",
    "train_images = np.array(train_image.drop('label',axis=1).values)\n",
    "\n",
    "test_labels = np.array(test_image['label'].values)\n",
    "test_images = np.array(test_image.drop('label',axis=1).values)"
   ]
  },
  {
   "cell_type": "code",
   "execution_count": 4,
   "metadata": {},
   "outputs": [
    {
     "data": {
      "image/png": "[encoded data removed]",
      "text/plain": [
       "<Figure size 432x288 with 1 Axes>"
      ]
     },
     "metadata": {
      "needs_background": "light"
     },
     "output_type": "display_data"
    }
   ],
   "source": [
    "t = plt.imshow(train_images[10].reshape(60,60))"
   ]
  },
  {
   "cell_type": "code",
   "execution_count": 5,
   "metadata": {},
   "outputs": [],
   "source": [
    "train_images = train_images / 255.0\n",
    "train_images = train_images.reshape(train_images.shape[0], 60, 60, 1)"
   ]
  },
  {
   "cell_type": "code",
   "execution_count": 6,
   "metadata": {},
   "outputs": [],
   "source": [
    "test_images = test_images / 255.0\n",
    "test_images = test_images.reshape(test_images.shape[0], 60, 60, 1)"
   ]
  },
  {
   "cell_type": "code",
   "execution_count": 7,
   "metadata": {},
   "outputs": [],
   "source": [
    "from sklearn.preprocessing import LabelBinarizer"
   ]
  },
  {
   "cell_type": "code",
   "execution_count": 8,
   "metadata": {},
   "outputs": [],
   "source": [
    "lb = LabelBinarizer()\n",
    "train_labels = lb.fit_transform(train_labels)\n",
    "test_labels = lb.fit_transform(test_labels)"
   ]
  },
  {
   "cell_type": "code",
   "execution_count": 9,
   "metadata": {},
   "outputs": [],
   "source": [
    "from tensorflow.keras import Sequential\n",
    "from tensorflow.keras.layers import Conv2D,MaxPool2D,Flatten,Dense,Dropout"
   ]
  },
  {
   "cell_type": "code",
   "execution_count": 10,
   "metadata": {},
   "outputs": [
    {
     "name": "stdout",
     "output_type": "stream",
     "text": [
      "WARNING:tensorflow:From /Users/wen.d/opt/anaconda3/envs/project_726/lib/python3.7/site-packages/tensorflow/python/ops/init_ops.py:1251: calling VarianceScaling.__init__ (from tensorflow.python.ops.init_ops) with dtype is deprecated and will be removed in a future version.\n",
      "Instructions for updating:\n",
      "Call initializer instance with the dtype argument instead of passing it to the constructor\n",
      "Train on 6000 samples, validate on 1200 samples\n",
      "Epoch 1/10\n",
      "6000/6000 [==============================] - 23s 4ms/sample - loss: 0.0562 - acc: 0.9912 - val_loss: 0.0053 - val_acc: 0.9992\n",
      "Epoch 2/10\n",
      "6000/6000 [==============================] - 23s 4ms/sample - loss: 0.0036 - acc: 0.9995 - val_loss: 0.0053 - val_acc: 0.9992\n",
      "Epoch 3/10\n",
      "6000/6000 [==============================] - 23s 4ms/sample - loss: 0.0034 - acc: 0.9995 - val_loss: 0.0047 - val_acc: 0.9992\n",
      "Epoch 4/10\n",
      "6000/6000 [==============================] - 24s 4ms/sample - loss: 0.0049 - acc: 0.9995 - val_loss: 0.0052 - val_acc: 0.9992\n",
      "Epoch 5/10\n",
      "6000/6000 [==============================] - 24s 4ms/sample - loss: 0.0034 - acc: 0.9995 - val_loss: 0.0041 - val_acc: 0.9992\n",
      "Epoch 6/10\n",
      "6000/6000 [==============================] - 24s 4ms/sample - loss: 0.0027 - acc: 0.9995 - val_loss: 0.0021 - val_acc: 0.9992\n",
      "Epoch 7/10\n",
      "6000/6000 [==============================] - 24s 4ms/sample - loss: 0.0015 - acc: 0.9997 - val_loss: 1.6349e-04 - val_acc: 1.0000\n",
      "Epoch 8/10\n",
      "6000/6000 [==============================] - 22s 4ms/sample - loss: 4.3043e-04 - acc: 0.9998 - val_loss: 5.4365e-05 - val_acc: 1.0000\n",
      "Epoch 9/10\n",
      "6000/6000 [==============================] - 24s 4ms/sample - loss: 3.7863e-04 - acc: 0.9998 - val_loss: 3.5124e-05 - val_acc: 1.0000\n",
      "Epoch 10/10\n",
      "6000/6000 [==============================] - 23s 4ms/sample - loss: 1.4251e-04 - acc: 1.0000 - val_loss: 3.1660e-05 - val_acc: 1.0000\n"
     ]
    },
    {
     "data": {
      "text/plain": [
       "<tensorflow.python.keras.callbacks.History at 0x7fe0f3889e90>"
      ]
     },
     "execution_count": 10,
     "metadata": {},
     "output_type": "execute_result"
    }
   ],
   "source": [
    "# Build and train neural network\n",
    "model = Sequential([\n",
    "    Conv2D(64, (8,8), padding='same', activation='relu', input_shape=(60,60,1)),\n",
    "    MaxPooling2D(2,2),\n",
    "    Flatten(),\n",
    "    Dense(10, activation='relu'),\n",
    "    Dense(2, activation='softmax')\n",
    "])\n",
    "\n",
    "# Compile neural network\n",
    "model.compile(optimizer='adam',\n",
    "             loss='sparse_categorical_crossentropy',\n",
    "             metrics=['accuracy']\n",
    "             )\n",
    "\n",
    "# Train the neural network\n",
    "model.fit(train_images, train_labels, epochs=10, validation_data = (test_images,test_labels))"
   ]
  },
  {
   "cell_type": "code",
   "execution_count": 11,
   "metadata": {},
   "outputs": [],
   "source": [
    "model2 = Sequential()\n",
    "\n",
    "model2.add(Conv2D(32, (3, 3), padding = \"same\", activation='relu', input_shape=(60,60,1)))\n",
    "model2.add(MaxPooling2D(pool_size=(2,2)))\n",
    "model2.add(Conv2D(64, (3, 3), activation='relu'))\n",
    "model2.add(MaxPooling2D(pool_size=(2,2)))\n",
    "model2.add(Conv2D(128, (3, 3), activation='relu'))\n",
    "model2.add(MaxPooling2D(pool_size=(2,2)))\n",
    "model2.add(Dropout(0.25))\n",
    " \n",
    "model2.add(Flatten())\n",
    "model2.add(Dense(128, activation='relu'))\n",
    "model2.add(Dropout(0.2))\n",
    "model2.add(Dense(2, activation='softmax'))"
   ]
  },
  {
   "cell_type": "code",
   "execution_count": 12,
   "metadata": {},
   "outputs": [
    {
     "name": "stdout",
     "output_type": "stream",
     "text": [
      "Model: \"sequential_1\"\n",
      "_________________________________________________________________\n",
      "Layer (type)                 Output Shape              Param #   \n",
      "=================================================================\n",
      "conv2d_1 (Conv2D)            (None, 60, 60, 32)        320       \n",
      "_________________________________________________________________\n",
      "max_pooling2d_1 (MaxPooling2 (None, 30, 30, 32)        0         \n",
      "_________________________________________________________________\n",
      "conv2d_2 (Conv2D)            (None, 28, 28, 64)        18496     \n",
      "_________________________________________________________________\n",
      "max_pooling2d_2 (MaxPooling2 (None, 14, 14, 64)        0         \n",
      "_________________________________________________________________\n",
      "conv2d_3 (Conv2D)            (None, 12, 12, 128)       73856     \n",
      "_________________________________________________________________\n",
      "max_pooling2d_3 (MaxPooling2 (None, 6, 6, 128)         0         \n",
      "_________________________________________________________________\n",
      "dropout (Dropout)            (None, 6, 6, 128)         0         \n",
      "_________________________________________________________________\n",
      "flatten_1 (Flatten)          (None, 4608)              0         \n",
      "_________________________________________________________________\n",
      "dense_2 (Dense)              (None, 128)               589952    \n",
      "_________________________________________________________________\n",
      "dropout_1 (Dropout)          (None, 128)               0         \n",
      "_________________________________________________________________\n",
      "dense_3 (Dense)              (None, 2)                 258       \n",
      "=================================================================\n",
      "Total params: 682,882\n",
      "Trainable params: 682,882\n",
      "Non-trainable params: 0\n",
      "_________________________________________________________________\n"
     ]
    }
   ],
   "source": [
    "model2.summary()"
   ]
  },
  {
   "cell_type": "code",
   "execution_count": 13,
   "metadata": {},
   "outputs": [],
   "source": [
    "model2.compile(loss='sparse_categorical_crossentropy', optimizer=\"adam\",metrics=['accuracy'])"
   ]
  },
  {
   "cell_type": "code",
   "execution_count": 14,
   "metadata": {},
   "outputs": [
    {
     "name": "stdout",
     "output_type": "stream",
     "text": [
      "Train on 6000 samples, validate on 1200 samples\n",
      "Epoch 1/10\n",
      "6000/6000 [==============================] - 14s 2ms/sample - loss: 0.0487 - acc: 0.9893 - val_loss: 0.0062 - val_acc: 0.9992\n",
      "Epoch 2/10\n",
      "6000/6000 [==============================] - 14s 2ms/sample - loss: 0.0055 - acc: 0.9995 - val_loss: 0.0062 - val_acc: 0.9992\n",
      "Epoch 3/10\n",
      "6000/6000 [==============================] - 15s 2ms/sample - loss: 0.0050 - acc: 0.9995 - val_loss: 0.0075 - val_acc: 0.9992\n",
      "Epoch 4/10\n",
      "6000/6000 [==============================] - 15s 3ms/sample - loss: 0.0053 - acc: 0.9995 - val_loss: 0.0064 - val_acc: 0.9992\n",
      "Epoch 5/10\n",
      "6000/6000 [==============================] - 14s 2ms/sample - loss: 0.0044 - acc: 0.9995 - val_loss: 0.0072 - val_acc: 0.9992\n",
      "Epoch 6/10\n",
      "6000/6000 [==============================] - 13s 2ms/sample - loss: 0.0047 - acc: 0.9995 - val_loss: 0.0066 - val_acc: 0.9992\n",
      "Epoch 7/10\n",
      "6000/6000 [==============================] - 14s 2ms/sample - loss: 0.0051 - acc: 0.9995 - val_loss: 0.0079 - val_acc: 0.9992\n",
      "Epoch 8/10\n",
      "6000/6000 [==============================] - 14s 2ms/sample - loss: 0.0045 - acc: 0.9995 - val_loss: 0.0071 - val_acc: 0.9992\n",
      "Epoch 9/10\n",
      "6000/6000 [==============================] - 14s 2ms/sample - loss: 0.0046 - acc: 0.9995 - val_loss: 0.0063 - val_acc: 0.9992\n",
      "Epoch 10/10\n",
      "6000/6000 [==============================] - 14s 2ms/sample - loss: 0.0045 - acc: 0.9995 - val_loss: 0.0161 - val_acc: 0.9992\n"
     ]
    }
   ],
   "source": [
    "history = model2.fit(train_images,train_labels, epochs=10, validation_data = (test_images, test_labels),  verbose=1)"
   ]
  },
  {
   "cell_type": "code",
   "execution_count": 15,
   "metadata": {},
   "outputs": [
    {
     "name": "stdout",
     "output_type": "stream",
     "text": [
      "1200/1200 [==============================] - 1s 852us/sample - loss: 0.0161 - acc: 0.9992\n",
      "Model 2: Test loss: 0.016065438588460285, Test accuracy: 99.91666674613953\n"
     ]
    }
   ],
   "source": [
    "test_loss2, test_accuracy2 = model2.evaluate(test_images, test_labels)\n",
    "\n",
    "print('Model 2: Test loss: {}, Test accuracy: {}'.format(test_loss2, (test_accuracy2)*100))"
   ]
  },
  {
   "cell_type": "code",
   "execution_count": 18,
   "metadata": {},
   "outputs": [
    {
     "data": {
      "image/png": "[encoded data removed]",
      "text/plain": [
       "<Figure size 432x288 with 1 Axes>"
      ]
     },
     "metadata": {
      "needs_background": "light"
     },
     "output_type": "display_data"
    }
   ],
   "source": [
    "#model 2 test result\n",
    "plt.plot(model.history.history['acc'])\n",
    "plt.plot(model.history.history['val_acc'])\n",
    "plt.title(\"Model Accuracy\")\n",
    "plt.xlabel('epoch')\n",
    "plt.ylabel('accuracy')\n",
    "plt.legend(['train','test'])\n",
    "\n",
    "plt.show()"
   ]
  },
  {
   "cell_type": "code",
   "execution_count": 46,
   "metadata": {},
   "outputs": [],
   "source": [
    "import matplotlib.pyplot as plt\n",
    "import cv2\n",
    "\n",
    "labels = ['A','B']\n",
    "\n",
    "def predict(path):\n",
    "    img = plt.imread(path)\n",
    "    if len(img.shape) > 2 :\n",
    "        img = cv2.cvtColor(img, cv2.COLOR_BGR2GRAY)\n",
    "    img1 = cv2.resize(img,(60,60))\n",
    "    img1 = img1.reshape(-1,60,60,1)\n",
    "\n",
    "    pre = model.predict_classes(img1)\n",
    "    plt.imshow(img)\n",
    "    plt.title('Prediction: '+labels[int(pre)])"
   ]
  },
  {
   "cell_type": "code",
   "execution_count": 52,
   "metadata": {},
   "outputs": [
    {
     "data": {
      "image/png": "[encoded data removed]",
      "text/plain": [
       "<Figure size 432x288 with 1 Axes>"
      ]
     },
     "metadata": {
      "needs_background": "light"
     },
     "output_type": "display_data"
    }
   ],
   "source": [
    "predict('data/hsf_1/hsf_1_02621.png')"
   ]
  },
  {
   "cell_type": "code",
   "execution_count": 54,
   "metadata": {},
   "outputs": [
    {
     "data": {
      "image/png": "[encoded data removed]",
      "text/plain": [
       "<Figure size 432x288 with 1 Axes>"
      ]
     },
     "metadata": {
      "needs_background": "light"
     },
     "output_type": "display_data"
    }
   ],
   "source": [
    "predict('data/test_b/_1_3223.jpg')"
   ]
  }
 ],
 "metadata": {
  "kernelspec": {
   "display_name": "Python 3",
   "language": "python",
   "name": "python3"
  },
  "language_info": {
   "codemirror_mode": {
    "name": "ipython",
    "version": 3
   },
   "file_extension": ".py",
   "mimetype": "text/x-python",
   "name": "python",
   "nbconvert_exporter": "python",
   "pygments_lexer": "ipython3",
   "version": "3.7.9"
  }
 },
 "nbformat": 4,
 "nbformat_minor": 5
}
