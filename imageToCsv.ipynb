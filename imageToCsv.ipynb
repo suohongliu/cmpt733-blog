{
 "cells": [
  {
   "cell_type": "code",
   "execution_count": 1,
   "metadata": {},
   "outputs": [],
   "source": [
    "import numpy as np\n",
    "import os, os.path\n",
    "import cv2\n",
    "import matplotlib.pyplot as plt\n",
    "import pandas as pd"
   ]
  },
  {
   "cell_type": "markdown",
   "metadata": {},
   "source": [
    "### dataset\n",
    "for A: https://lionbridge.ai/datasets/15-best-ocr-handwriting-datasets/ \\\n",
    "for B: https://www.kaggle.com/vaibhao/handwritten-characters"
   ]
  },
  {
   "cell_type": "code",
   "execution_count": 18,
   "metadata": {},
   "outputs": [],
   "source": [
    "labels = ['a','b']\n",
    "dirName = ['A','B','test_a','test_b']"
   ]
  },
  {
   "cell_type": "code",
   "execution_count": 3,
   "metadata": {},
   "outputs": [],
   "source": [
    "#original picture shape is 128 *128, this is the schema for each pixel\n",
    "name = []\n",
    "for n in range(16384):\n",
    "    name.append('pixel'+str(n))\n",
    "#for reshape image 60*60    \n",
    "name1 = []\n",
    "for n in range(3600):\n",
    "    name1.append('pixel'+str(n))"
   ]
  },
  {
   "cell_type": "code",
   "execution_count": 4,
   "metadata": {},
   "outputs": [
    {
     "data": {
      "text/plain": [
       "'\\ntv = np.array(test.values)\\n\\nplt.imshow(tv[0].reshape(128,128))\\n'"
      ]
     },
     "execution_count": 4,
     "metadata": {},
     "output_type": "execute_result"
    }
   ],
   "source": [
    "\"\"\"img = cv2.imread('data/hsf_0/hsf_0_00000.png')\n",
    "img.shape\n",
    "img = cv2.cvtColor(img, cv2.COLOR_BGR2GRAY)\n",
    "img = cv2.resize(img,(60,60))\n",
    "img = img.flatten()\n",
    "img = img.reshape(-1,1).T\n",
    "#plt.imshow(img)\n",
    "\n",
    "with open('data/test1.csv'.format(al.lower()), 'ab') as f:\n",
    "            np.savetxt(f,img,delimiter=',')\n",
    "test = pd.read_csv('data/test1.csv',names=name1)\n",
    "test.insert(loc=0,column='label',value=[0])\n",
    "test.to_csv('data/test2.csv',index=False)\n",
    "\"\"\"\n",
    "\n",
    "\"\"\"\n",
    "tv = np.array(test.values)\n",
    "\n",
    "plt.imshow(tv[0].reshape(128,128))\n",
    "\"\"\""
   ]
  },
  {
   "cell_type": "code",
   "execution_count": 5,
   "metadata": {},
   "outputs": [
    {
     "data": {
      "text/plain": [
       "\"t=pd.read_csv('data/test2.csv')\\ntv1 = np.array(t.drop('label',axis=1).values)\\nplt.imshow(tv1[0].reshape(60,60))\""
      ]
     },
     "execution_count": 5,
     "metadata": {},
     "output_type": "execute_result"
    }
   ],
   "source": [
    "\"\"\"t=pd.read_csv('data/test2.csv')\n",
    "tv1 = np.array(t.drop('label',axis=1).values)\n",
    "plt.imshow(tv1[0].reshape(60,60))\"\"\""
   ]
  },
  {
   "cell_type": "code",
   "execution_count": 19,
   "metadata": {},
   "outputs": [
    {
     "name": "stdout",
     "output_type": "stream",
     "text": [
      "A\n",
      "B\n",
      "test_a\n",
      "test_b\n",
      "All finish\n"
     ]
    }
   ],
   "source": [
    "#pick first 200 image\n",
    "#reshape to 60*60\n",
    "#convert image to csv file\n",
    "for al in dirName:\n",
    "    print(al)\n",
    "    for img in os.listdir('data/{}'.format(al)):\n",
    "        if 'png' in img or 'jpg' in img:\n",
    "            #print(img)\n",
    "            #change count to get different numbers of images\n",
    "            img2 = plt.imread('data/{}/{}'.format(al,img))\n",
    "            if len(img2.shape) > 2:\n",
    "                img2 = cv2.cvtColor(img2, cv2.COLOR_BGR2GRAY)\n",
    "            img2 = cv2.resize(img2,(60,60))\n",
    "            img2 = img2.flatten()\n",
    "            img2 = img2.reshape(-1,1).T\n",
    "            with open('data/{}.csv'.format(al.lower()), 'ab') as f:\n",
    "                np.savetxt(f,img2,delimiter=',')\n",
    "print(\"All finish\")"
   ]
  },
  {
   "cell_type": "code",
   "execution_count": 20,
   "metadata": {},
   "outputs": [
    {
     "data": {
      "text/plain": [
       "<matplotlib.image.AxesImage at 0x7f9f9310abd0>"
      ]
     },
     "execution_count": 20,
     "metadata": {},
     "output_type": "execute_result"
    },
    {
     "data": {
      "image/png": "[encoded data removed]",
      "text/plain": [
       "<Figure size 432x288 with 1 Axes>"
      ]
     },
     "metadata": {
      "needs_background": "light"
     },
     "output_type": "display_data"
    }
   ],
   "source": [
    "#test imgae\n",
    "#read csv file\n",
    "z = pd.read_csv('data/b.csv')\n",
    "#value to array\n",
    "value = np.array(z.values)\n",
    "#show the image in size 60*60 cause we have 3600pixels for each row\n",
    "plt.imshow(value[10].reshape(60,60))"
   ]
  },
  {
   "cell_type": "code",
   "execution_count": 23,
   "metadata": {},
   "outputs": [],
   "source": [
    "#label for images, we only have 'a', let 0 label it\n",
    "label_a = [0] * 3000\n",
    "label_b = [1] * 3000\n",
    "label_test_a = [0] * 600\n",
    "label_test_b = [1] * 600"
   ]
  },
  {
   "cell_type": "code",
   "execution_count": 21,
   "metadata": {},
   "outputs": [
    {
     "name": "stdout",
     "output_type": "stream",
     "text": [
      "finish\n"
     ]
    }
   ],
   "source": [
    "#add label to each row\n",
    "a = pd.read_csv('data/a.csv',names=name1)\n",
    "a.insert(loc=0,column='label',value=label_a)\n",
    "b = pd.read_csv('data/b.csv',names=name1)\n",
    "b.insert(loc=0,column='label',value=label_b)\n",
    "\n",
    "#save to train_test.csv\n",
    "a.to_csv('data/train_test.csv',index=False)\n",
    "b.to_csv('data/train_test.csv',mode='a',index=False,header=False)\n",
    "print(\"finish\")"
   ]
  },
  {
   "cell_type": "code",
   "execution_count": 24,
   "metadata": {},
   "outputs": [
    {
     "name": "stdout",
     "output_type": "stream",
     "text": [
      "finish\n"
     ]
    }
   ],
   "source": [
    "a = pd.read_csv('data/test_a.csv',names=name1)\n",
    "a.insert(loc=0,column='label',value=label_test_a)\n",
    "b = pd.read_csv('data/test_b.csv',names=name1)\n",
    "b.insert(loc=0,column='label',value=label_test_b)\n",
    "\n",
    "#save to train_test.csv\n",
    "a.to_csv('data/train_test2.csv',index=False)\n",
    "b.to_csv('data/train_test2.csv',mode='a',index=False,header=False)\n",
    "print(\"finish\")"
   ]
  },
  {
   "cell_type": "code",
   "execution_count": 10,
   "metadata": {},
   "outputs": [
    {
     "data": {
      "text/plain": [
       "\"train = pd.read_csv('data/data_test.csv')\\nv = np.array(train.drop('label',axis=1).values)\\nplt.imshow(v[0].reshape(60,60))\""
      ]
     },
     "execution_count": 10,
     "metadata": {},
     "output_type": "execute_result"
    }
   ],
   "source": [
    "#test image\n",
    "\"\"\"train = pd.read_csv('data/data_test.csv')\n",
    "v = np.array(train.drop('label',axis=1).values)\n",
    "plt.imshow(v[0].reshape(60,60))\"\"\""
   ]
  },
  {
   "cell_type": "code",
   "execution_count": 11,
   "metadata": {},
   "outputs": [
    {
     "data": {
      "text/plain": [
       "6000"
      ]
     },
     "execution_count": 11,
     "metadata": {},
     "output_type": "execute_result"
    }
   ],
   "source": [
    "data = pd.read_csv('data/train_test.csv')\n",
    "test = pd.read_csv('data/tarin_test2.csv')\n",
    "len(data)"
   ]
  },
  {
   "cell_type": "code",
   "execution_count": 25,
   "metadata": {},
   "outputs": [
    {
     "name": "stdout",
     "output_type": "stream",
     "text": [
      "finish\n"
     ]
    }
   ],
   "source": [
    "#shuffle order\n",
    "#data_df = data.sample(frac=1)\n",
    "#output real train csv file\n",
    "\n",
    "train = data.sample(frac=1)\n",
    "test = test.sample(frac=1)\n",
    "\n",
    "train.to_csv('data/train.csv',index=False)\n",
    "test.to_csv('data/test.csv',index=False)\n",
    "print(\"finish\")"
   ]
  },
  {
   "cell_type": "code",
   "execution_count": 13,
   "metadata": {},
   "outputs": [
    {
     "data": {
      "text/plain": [
       "4800"
      ]
     },
     "execution_count": 13,
     "metadata": {},
     "output_type": "execute_result"
    }
   ],
   "source": [
    "len(train)"
   ]
  },
  {
   "cell_type": "code",
   "execution_count": 14,
   "metadata": {},
   "outputs": [
    {
     "data": {
      "text/plain": [
       "\"train = pd.read_csv('data/train.csv')\\nv = np.array(train.drop('label',axis=1).values)\\nplt.imshow(v[0].reshape(60,60))\""
      ]
     },
     "execution_count": 14,
     "metadata": {},
     "output_type": "execute_result"
    }
   ],
   "source": [
    "\"\"\"train = pd.read_csv('data/train.csv')\n",
    "v = np.array(train.drop('label',axis=1).values)\n",
    "plt.imshow(v[0].reshape(60,60))\"\"\""
   ]
  },
  {
   "cell_type": "code",
   "execution_count": 15,
   "metadata": {},
   "outputs": [
    {
     "data": {
      "text/plain": [
       "'test_df = train.sample(frac=0.2)\\ntest_df.to_csv(\\'data/test.csv\\',index=False)\\nprint(\"finish\")'"
      ]
     },
     "execution_count": 15,
     "metadata": {},
     "output_type": "execute_result"
    }
   ],
   "source": [
    "#get 20% of data from tain as test csv\n",
    "\"\"\"test_df = train.sample(frac=0.2)\n",
    "test_df.to_csv('data/test.csv',index=False)\n",
    "print(\"finish\")\"\"\""
   ]
  },
  {
   "cell_type": "code",
   "execution_count": 16,
   "metadata": {},
   "outputs": [
    {
     "data": {
      "text/plain": [
       "\"train = pd.read_csv('data/test.csv')\\nv = np.array(train.drop('label',axis=1).values)\\nplt.imshow(v[0].reshape(60,60))\""
      ]
     },
     "execution_count": 16,
     "metadata": {},
     "output_type": "execute_result"
    }
   ],
   "source": [
    "\"\"\"train = pd.read_csv('data/test.csv')\n",
    "v = np.array(train.drop('label',axis=1).values)\n",
    "plt.imshow(v[0].reshape(60,60))\"\"\""
   ]
  },
  {
   "cell_type": "code",
   "execution_count": 17,
   "metadata": {},
   "outputs": [
    {
     "data": {
      "text/plain": [
       "<matplotlib.image.AxesImage at 0x7f9f9e79fd90>"
      ]
     },
     "execution_count": 17,
     "metadata": {},
     "output_type": "execute_result"
    },
    {
     "data": {
      "image/png": "[encoded data removed]",
      "text/plain": [
       "<Figure size 432x288 with 1 Axes>"
      ]
     },
     "metadata": {
      "needs_background": "light"
     },
     "output_type": "display_data"
    }
   ],
   "source": [
    "s = pd.read_csv('data/train.csv')\n",
    "train_value = np.array(s.drop('label',axis=1).values)\n",
    "\n",
    "plt.imshow(train_value[0].reshape(60,60))"
   ]
  }
 ],
 "metadata": {
  "kernelspec": {
   "display_name": "Python 3",
   "language": "python",
   "name": "python3"
  },
  "language_info": {
   "codemirror_mode": {
    "name": "ipython",
    "version": 3
   },
   "file_extension": ".py",
   "mimetype": "text/x-python",
   "name": "python",
   "nbconvert_exporter": "python",
   "pygments_lexer": "ipython3",
   "version": "3.7.9"
  }
 },
 "nbformat": 4,
 "nbformat_minor": 5
}
